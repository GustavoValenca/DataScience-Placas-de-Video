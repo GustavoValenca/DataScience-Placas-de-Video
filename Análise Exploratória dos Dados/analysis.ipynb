{
 "cells": [
  {
   "cell_type": "code",
   "execution_count": 1,
   "metadata": {},
   "outputs": [],
   "source": [
    "import pandas as pd\n",
    "import numpy as np"
   ]
  },
  {
   "cell_type": "code",
   "execution_count": 2,
   "metadata": {},
   "outputs": [],
   "source": [
    "df = pd.read_csv('dataset.csv')"
   ]
  },
  {
   "cell_type": "code",
   "execution_count": 3,
   "metadata": {},
   "outputs": [
    {
     "data": {
      "text/html": [
       "<div>\n",
       "<style scoped>\n",
       "    .dataframe tbody tr th:only-of-type {\n",
       "        vertical-align: middle;\n",
       "    }\n",
       "\n",
       "    .dataframe tbody tr th {\n",
       "        vertical-align: top;\n",
       "    }\n",
       "\n",
       "    .dataframe thead th {\n",
       "        text-align: right;\n",
       "    }\n",
       "</style>\n",
       "<table border=\"1\" class=\"dataframe\">\n",
       "  <thead>\n",
       "    <tr style=\"text-align: right;\">\n",
       "      <th></th>\n",
       "      <th>Unnamed: 0</th>\n",
       "      <th>Preço</th>\n",
       "      <th>Marca</th>\n",
       "      <th>Modelo</th>\n",
       "      <th>GPU</th>\n",
       "      <th>Unidades de Processamento</th>\n",
       "      <th>Tamanho da Memória (GB)</th>\n",
       "      <th>Velocidade da Memória (Gbps)</th>\n",
       "      <th>Tipo da Memória</th>\n",
       "      <th>Interface da Memória (Bits)</th>\n",
       "      <th>Fonte Recomendada (W)</th>\n",
       "      <th>Garantia (Meses)</th>\n",
       "      <th>Peso</th>\n",
       "    </tr>\n",
       "  </thead>\n",
       "  <tbody>\n",
       "    <tr>\n",
       "      <th>0</th>\n",
       "      <td>0</td>\n",
       "      <td>2699.99</td>\n",
       "      <td>MSI</td>\n",
       "      <td>Radeon RX 6750 XT MECH 2X 12G OC</td>\n",
       "      <td>AMD</td>\n",
       "      <td>2560</td>\n",
       "      <td>12.0</td>\n",
       "      <td>18.0</td>\n",
       "      <td>GDDR6</td>\n",
       "      <td>192.0</td>\n",
       "      <td>650.0</td>\n",
       "      <td>36.0</td>\n",
       "      <td>1474.0</td>\n",
       "    </tr>\n",
       "    <tr>\n",
       "      <th>1</th>\n",
       "      <td>1</td>\n",
       "      <td>2299.99</td>\n",
       "      <td>ASUS</td>\n",
       "      <td>Dual RTX 3060 O12G V2</td>\n",
       "      <td>NVIDIA</td>\n",
       "      <td>3584</td>\n",
       "      <td>12.0</td>\n",
       "      <td>15.0</td>\n",
       "      <td>GDDR6</td>\n",
       "      <td>192.0</td>\n",
       "      <td>650.0</td>\n",
       "      <td>12.0</td>\n",
       "      <td>880.0</td>\n",
       "    </tr>\n",
       "    <tr>\n",
       "      <th>2</th>\n",
       "      <td>2</td>\n",
       "      <td>1559.99</td>\n",
       "      <td>ASRock</td>\n",
       "      <td>AMD Radeon RX 6600 CLD 8G</td>\n",
       "      <td>AMD</td>\n",
       "      <td>1792</td>\n",
       "      <td>8.0</td>\n",
       "      <td>14.0</td>\n",
       "      <td>GDDR6</td>\n",
       "      <td>128.0</td>\n",
       "      <td>500.0</td>\n",
       "      <td>12.0</td>\n",
       "      <td>627.0</td>\n",
       "    </tr>\n",
       "    <tr>\n",
       "      <th>3</th>\n",
       "      <td>3</td>\n",
       "      <td>1739.99</td>\n",
       "      <td>PNY</td>\n",
       "      <td>VCG30508DFMPB</td>\n",
       "      <td>NVIDIA</td>\n",
       "      <td>2560</td>\n",
       "      <td>8.0</td>\n",
       "      <td>NaN</td>\n",
       "      <td>GDDR6</td>\n",
       "      <td>128.0</td>\n",
       "      <td>NaN</td>\n",
       "      <td>36.0</td>\n",
       "      <td>1052.0</td>\n",
       "    </tr>\n",
       "    <tr>\n",
       "      <th>4</th>\n",
       "      <td>4</td>\n",
       "      <td>2499.99</td>\n",
       "      <td>PNY</td>\n",
       "      <td>VCG306012DFBPB1</td>\n",
       "      <td>NVIDIA</td>\n",
       "      <td>3584</td>\n",
       "      <td>12.0</td>\n",
       "      <td>15.0</td>\n",
       "      <td>GDDR6</td>\n",
       "      <td>192.0</td>\n",
       "      <td>NaN</td>\n",
       "      <td>36.0</td>\n",
       "      <td>990.0</td>\n",
       "    </tr>\n",
       "    <tr>\n",
       "      <th>...</th>\n",
       "      <td>...</td>\n",
       "      <td>...</td>\n",
       "      <td>...</td>\n",
       "      <td>...</td>\n",
       "      <td>...</td>\n",
       "      <td>...</td>\n",
       "      <td>...</td>\n",
       "      <td>...</td>\n",
       "      <td>...</td>\n",
       "      <td>...</td>\n",
       "      <td>...</td>\n",
       "      <td>...</td>\n",
       "      <td>...</td>\n",
       "    </tr>\n",
       "    <tr>\n",
       "      <th>1245</th>\n",
       "      <td>1245</td>\n",
       "      <td>NaN</td>\n",
       "      <td>Pny</td>\n",
       "      <td>NVIDIA QUADRO T600</td>\n",
       "      <td>NVIDIA</td>\n",
       "      <td>640</td>\n",
       "      <td>4.0</td>\n",
       "      <td>NaN</td>\n",
       "      <td>GDDR6</td>\n",
       "      <td>128.0</td>\n",
       "      <td>NaN</td>\n",
       "      <td>12.0</td>\n",
       "      <td>450.0</td>\n",
       "    </tr>\n",
       "    <tr>\n",
       "      <th>1246</th>\n",
       "      <td>1246</td>\n",
       "      <td>NaN</td>\n",
       "      <td>MSI Modelo: 912-V389-205 Motor gráfico: NVIDIA...</td>\n",
       "      <td>912-V389-205 Motor gráfico: NVIDIA® GeForce RT...</td>\n",
       "      <td>NVIDIA</td>\n",
       "      <td>NaN</td>\n",
       "      <td>10.0</td>\n",
       "      <td>19.0</td>\n",
       "      <td>GDDR6X</td>\n",
       "      <td>NaN</td>\n",
       "      <td>912.0</td>\n",
       "      <td>12.0</td>\n",
       "      <td>3000.0</td>\n",
       "    </tr>\n",
       "    <tr>\n",
       "      <th>1247</th>\n",
       "      <td>1247</td>\n",
       "      <td>NaN</td>\n",
       "      <td>Galax</td>\n",
       "      <td>Geforce GTX 1660 Super 6GB</td>\n",
       "      <td>NVIDIA</td>\n",
       "      <td>1408</td>\n",
       "      <td>6.0</td>\n",
       "      <td>14.0</td>\n",
       "      <td>GDDR6</td>\n",
       "      <td>192.0</td>\n",
       "      <td>125.0</td>\n",
       "      <td>3.0</td>\n",
       "      <td>1070.0</td>\n",
       "    </tr>\n",
       "    <tr>\n",
       "      <th>1248</th>\n",
       "      <td>1248</td>\n",
       "      <td>NaN</td>\n",
       "      <td>Pcwinmax</td>\n",
       "      <td>Geforce Gt 740</td>\n",
       "      <td>NVIDIA</td>\n",
       "      <td>192</td>\n",
       "      <td>4.0</td>\n",
       "      <td>NaN</td>\n",
       "      <td>NaN</td>\n",
       "      <td>128.0</td>\n",
       "      <td>NaN</td>\n",
       "      <td>6.0</td>\n",
       "      <td>4000.0</td>\n",
       "    </tr>\n",
       "    <tr>\n",
       "      <th>1249</th>\n",
       "      <td>1249</td>\n",
       "      <td>NaN</td>\n",
       "      <td>Lian Li</td>\n",
       "      <td>PW-PCl-420</td>\n",
       "      <td>NaN</td>\n",
       "      <td>NaN</td>\n",
       "      <td>NaN</td>\n",
       "      <td>NaN</td>\n",
       "      <td>NaN</td>\n",
       "      <td>NaN</td>\n",
       "      <td>NaN</td>\n",
       "      <td>3.0</td>\n",
       "      <td>200.0</td>\n",
       "    </tr>\n",
       "  </tbody>\n",
       "</table>\n",
       "<p>1250 rows × 13 columns</p>\n",
       "</div>"
      ],
      "text/plain": [
       "      Unnamed: 0    Preço                                              Marca   \n",
       "0              0  2699.99                                                MSI  \\\n",
       "1              1  2299.99                                               ASUS   \n",
       "2              2  1559.99                                             ASRock   \n",
       "3              3  1739.99                                                PNY   \n",
       "4              4  2499.99                                                PNY   \n",
       "...          ...      ...                                                ...   \n",
       "1245        1245      NaN                                                Pny   \n",
       "1246        1246      NaN  MSI Modelo: 912-V389-205 Motor gráfico: NVIDIA...   \n",
       "1247        1247      NaN                                              Galax   \n",
       "1248        1248      NaN                                           Pcwinmax   \n",
       "1249        1249      NaN                                            Lian Li   \n",
       "\n",
       "                                                 Modelo     GPU   \n",
       "0                      Radeon RX 6750 XT MECH 2X 12G OC     AMD  \\\n",
       "1                                 Dual RTX 3060 O12G V2  NVIDIA   \n",
       "2                             AMD Radeon RX 6600 CLD 8G     AMD   \n",
       "3                                         VCG30508DFMPB  NVIDIA   \n",
       "4                                       VCG306012DFBPB1  NVIDIA   \n",
       "...                                                 ...     ...   \n",
       "1245                                 NVIDIA QUADRO T600  NVIDIA   \n",
       "1246  912-V389-205 Motor gráfico: NVIDIA® GeForce RT...  NVIDIA   \n",
       "1247                         Geforce GTX 1660 Super 6GB  NVIDIA   \n",
       "1248                                     Geforce Gt 740  NVIDIA   \n",
       "1249                                         PW-PCl-420     NaN   \n",
       "\n",
       "     Unidades de Processamento  Tamanho da Memória (GB)   \n",
       "0                         2560                     12.0  \\\n",
       "1                         3584                     12.0   \n",
       "2                         1792                      8.0   \n",
       "3                         2560                      8.0   \n",
       "4                         3584                     12.0   \n",
       "...                        ...                      ...   \n",
       "1245                       640                      4.0   \n",
       "1246                       NaN                     10.0   \n",
       "1247                      1408                      6.0   \n",
       "1248                       192                      4.0   \n",
       "1249                       NaN                      NaN   \n",
       "\n",
       "      Velocidade da Memória (Gbps) Tipo da Memória   \n",
       "0                             18.0           GDDR6  \\\n",
       "1                             15.0           GDDR6   \n",
       "2                             14.0           GDDR6   \n",
       "3                              NaN           GDDR6   \n",
       "4                             15.0           GDDR6   \n",
       "...                            ...             ...   \n",
       "1245                           NaN           GDDR6   \n",
       "1246                          19.0         GDDR6X    \n",
       "1247                          14.0          GDDR6    \n",
       "1248                           NaN             NaN   \n",
       "1249                           NaN             NaN   \n",
       "\n",
       "      Interface da Memória (Bits)  Fonte Recomendada (W)  Garantia (Meses)   \n",
       "0                           192.0                  650.0              36.0  \\\n",
       "1                           192.0                  650.0              12.0   \n",
       "2                           128.0                  500.0              12.0   \n",
       "3                           128.0                    NaN              36.0   \n",
       "4                           192.0                    NaN              36.0   \n",
       "...                           ...                    ...               ...   \n",
       "1245                        128.0                    NaN              12.0   \n",
       "1246                          NaN                  912.0              12.0   \n",
       "1247                        192.0                  125.0               3.0   \n",
       "1248                        128.0                    NaN               6.0   \n",
       "1249                          NaN                    NaN               3.0   \n",
       "\n",
       "        Peso  \n",
       "0     1474.0  \n",
       "1      880.0  \n",
       "2      627.0  \n",
       "3     1052.0  \n",
       "4      990.0  \n",
       "...      ...  \n",
       "1245   450.0  \n",
       "1246  3000.0  \n",
       "1247  1070.0  \n",
       "1248  4000.0  \n",
       "1249   200.0  \n",
       "\n",
       "[1250 rows x 13 columns]"
      ]
     },
     "execution_count": 3,
     "metadata": {},
     "output_type": "execute_result"
    }
   ],
   "source": [
    "df"
   ]
  },
  {
   "attachments": {},
   "cell_type": "markdown",
   "metadata": {},
   "source": [
    "## Medidas de Tendência Central"
   ]
  },
  {
   "attachments": {},
   "cell_type": "markdown",
   "metadata": {},
   "source": [
    "### Média"
   ]
  },
  {
   "attachments": {},
   "cell_type": "markdown",
   "metadata": {},
   "source": [
    "#### Média de Preço"
   ]
  },
  {
   "cell_type": "code",
   "execution_count": 4,
   "metadata": {},
   "outputs": [
    {
     "data": {
      "text/plain": [
       "3834.822132352941"
      ]
     },
     "execution_count": 4,
     "metadata": {},
     "output_type": "execute_result"
    }
   ],
   "source": [
    "df['Preço'].mean()"
   ]
  },
  {
   "attachments": {},
   "cell_type": "markdown",
   "metadata": {},
   "source": [
    "#### Média de Peso"
   ]
  },
  {
   "cell_type": "code",
   "execution_count": 5,
   "metadata": {},
   "outputs": [
    {
     "data": {
      "text/plain": [
       "1430.2224080267558"
      ]
     },
     "execution_count": 5,
     "metadata": {},
     "output_type": "execute_result"
    }
   ],
   "source": [
    "df['Peso'].mean()"
   ]
  },
  {
   "attachments": {},
   "cell_type": "markdown",
   "metadata": {},
   "source": [
    "#### Média de Unidades de Processamento"
   ]
  },
  {
   "cell_type": "code",
   "execution_count": 33,
   "metadata": {},
   "outputs": [],
   "source": [
    "df_cores = df"
   ]
  },
  {
   "cell_type": "code",
   "execution_count": 34,
   "metadata": {},
   "outputs": [],
   "source": [
    "df_cores['Unidades de Processamento'] = pd.to_numeric(df_cores['Unidades de Processamento'], errors='coerce')"
   ]
  },
  {
   "cell_type": "code",
   "execution_count": 8,
   "metadata": {},
   "outputs": [
    {
     "data": {
      "text/plain": [
       "0       2560.0\n",
       "1       3584.0\n",
       "2       1792.0\n",
       "3       2560.0\n",
       "4       3584.0\n",
       "         ...  \n",
       "1245     640.0\n",
       "1246       NaN\n",
       "1247    1408.0\n",
       "1248     192.0\n",
       "1249       NaN\n",
       "Name: Unidades de Processamento, Length: 1250, dtype: float64"
      ]
     },
     "execution_count": 8,
     "metadata": {},
     "output_type": "execute_result"
    }
   ],
   "source": [
    "df_cores['Unidades de Processamento']"
   ]
  },
  {
   "cell_type": "code",
   "execution_count": 35,
   "metadata": {},
   "outputs": [
    {
     "name": "stdout",
     "output_type": "stream",
     "text": [
      "63\n"
     ]
    }
   ],
   "source": [
    "# Removendo valores errados\n",
    "count = 0\n",
    "indices = []\n",
    "for linha in range(len(df_cores)):\n",
    "    if df_cores['Unidades de Processamento'].iloc[linha] > 20000:\n",
    "        count += 1\n",
    "        indices.append(linha)\n",
    "print(count)"
   ]
  },
  {
   "cell_type": "code",
   "execution_count": 36,
   "metadata": {},
   "outputs": [],
   "source": [
    "df_cores = df_cores.drop(indices)"
   ]
  },
  {
   "cell_type": "code",
   "execution_count": 12,
   "metadata": {},
   "outputs": [
    {
     "data": {
      "text/plain": [
       "3877.1986206896554"
      ]
     },
     "execution_count": 12,
     "metadata": {},
     "output_type": "execute_result"
    }
   ],
   "source": [
    "df_cores['Unidades de Processamento'].mean()"
   ]
  },
  {
   "attachments": {},
   "cell_type": "markdown",
   "metadata": {},
   "source": [
    "### Mediana"
   ]
  },
  {
   "attachments": {},
   "cell_type": "markdown",
   "metadata": {},
   "source": [
    "#### Preço"
   ]
  },
  {
   "cell_type": "code",
   "execution_count": 13,
   "metadata": {},
   "outputs": [
    {
     "data": {
      "text/plain": [
       "2199.995"
      ]
     },
     "execution_count": 13,
     "metadata": {},
     "output_type": "execute_result"
    }
   ],
   "source": [
    "df['Preço'].median()"
   ]
  },
  {
   "attachments": {},
   "cell_type": "markdown",
   "metadata": {},
   "source": [
    "#### Peso"
   ]
  },
  {
   "cell_type": "code",
   "execution_count": 14,
   "metadata": {},
   "outputs": [
    {
     "data": {
      "text/plain": [
       "1063.0"
      ]
     },
     "execution_count": 14,
     "metadata": {},
     "output_type": "execute_result"
    }
   ],
   "source": [
    "df['Peso'].median()"
   ]
  },
  {
   "attachments": {},
   "cell_type": "markdown",
   "metadata": {},
   "source": [
    "#### Unidades de Processamento"
   ]
  },
  {
   "cell_type": "code",
   "execution_count": 15,
   "metadata": {},
   "outputs": [
    {
     "data": {
      "text/plain": [
       "2560.0"
      ]
     },
     "execution_count": 15,
     "metadata": {},
     "output_type": "execute_result"
    }
   ],
   "source": [
    "df_cores['Unidades de Processamento'].median()"
   ]
  },
  {
   "attachments": {},
   "cell_type": "markdown",
   "metadata": {},
   "source": [
    "### Moda"
   ]
  },
  {
   "attachments": {},
   "cell_type": "markdown",
   "metadata": {},
   "source": [
    "#### Garantia"
   ]
  },
  {
   "cell_type": "code",
   "execution_count": 16,
   "metadata": {},
   "outputs": [
    {
     "data": {
      "text/plain": [
       "Garantia (Meses)\n",
       "12.0    673\n",
       "3.0     392\n",
       "36.0     94\n",
       "24.0     38\n",
       "6.0      15\n",
       "0.0       7\n",
       "48.0      3\n",
       "90.0      2\n",
       "9.0       1\n",
       "Name: count, dtype: int64"
      ]
     },
     "execution_count": 16,
     "metadata": {},
     "output_type": "execute_result"
    }
   ],
   "source": [
    "df['Garantia (Meses)'].value_counts()"
   ]
  },
  {
   "cell_type": "code",
   "execution_count": 17,
   "metadata": {},
   "outputs": [
    {
     "name": "stdout",
     "output_type": "stream",
     "text": [
      "Moda Garantia:\n"
     ]
    },
    {
     "data": {
      "text/plain": [
       "0    12.0\n",
       "Name: Garantia (Meses), dtype: float64"
      ]
     },
     "execution_count": 17,
     "metadata": {},
     "output_type": "execute_result"
    }
   ],
   "source": [
    "print(\"Moda Garantia:\")\n",
    "df['Garantia (Meses)'].mode()"
   ]
  },
  {
   "attachments": {},
   "cell_type": "markdown",
   "metadata": {},
   "source": [
    "#### GPU"
   ]
  },
  {
   "cell_type": "code",
   "execution_count": 18,
   "metadata": {},
   "outputs": [
    {
     "data": {
      "text/plain": [
       "GPU\n",
       "NVIDIA    880\n",
       "AMD       225\n",
       "Intel       4\n",
       "Name: count, dtype: int64"
      ]
     },
     "execution_count": 18,
     "metadata": {},
     "output_type": "execute_result"
    }
   ],
   "source": [
    "df['GPU'].value_counts()"
   ]
  },
  {
   "cell_type": "code",
   "execution_count": 19,
   "metadata": {},
   "outputs": [
    {
     "name": "stdout",
     "output_type": "stream",
     "text": [
      "Moda GPU: \n"
     ]
    },
    {
     "data": {
      "text/plain": [
       "0    NVIDIA\n",
       "Name: GPU, dtype: object"
      ]
     },
     "execution_count": 19,
     "metadata": {},
     "output_type": "execute_result"
    }
   ],
   "source": [
    "print(\"Moda GPU: \")\n",
    "df['GPU'].mode()"
   ]
  },
  {
   "attachments": {},
   "cell_type": "markdown",
   "metadata": {},
   "source": [
    "## Medidas de Variabilidade"
   ]
  },
  {
   "attachments": {},
   "cell_type": "markdown",
   "metadata": {},
   "source": [
    "### Desvio"
   ]
  },
  {
   "cell_type": "code",
   "execution_count": 21,
   "metadata": {},
   "outputs": [
    {
     "data": {
      "text/plain": [
       "3834.822132352941"
      ]
     },
     "execution_count": 21,
     "metadata": {},
     "output_type": "execute_result"
    }
   ],
   "source": [
    "media_precos = df['Preço'].mean()\n",
    "media_precos"
   ]
  },
  {
   "cell_type": "code",
   "execution_count": 22,
   "metadata": {},
   "outputs": [
    {
     "data": {
      "text/plain": [
       "0      -1134.832132\n",
       "1      -1534.832132\n",
       "2      -2274.832132\n",
       "3      -2094.832132\n",
       "4      -1334.832132\n",
       "           ...     \n",
       "1245            NaN\n",
       "1246            NaN\n",
       "1247            NaN\n",
       "1248            NaN\n",
       "1249            NaN\n",
       "Name: Preço, Length: 1250, dtype: float64"
      ]
     },
     "execution_count": 22,
     "metadata": {},
     "output_type": "execute_result"
    }
   ],
   "source": [
    "d = df['Preço'].apply(lambda x: x - media_precos)\n",
    "d"
   ]
  },
  {
   "attachments": {},
   "cell_type": "markdown",
   "metadata": {},
   "source": [
    "### Variância"
   ]
  },
  {
   "cell_type": "code",
   "execution_count": 23,
   "metadata": {},
   "outputs": [
    {
     "data": {
      "text/plain": [
       "18663135.85231294"
      ]
     },
     "execution_count": 23,
     "metadata": {},
     "output_type": "execute_result"
    }
   ],
   "source": [
    "df['Preço'].var()"
   ]
  },
  {
   "attachments": {},
   "cell_type": "markdown",
   "metadata": {},
   "source": [
    "### Desvio Padrão"
   ]
  },
  {
   "cell_type": "code",
   "execution_count": 24,
   "metadata": {},
   "outputs": [
    {
     "data": {
      "text/plain": [
       "4320.085167252255"
      ]
     },
     "execution_count": 24,
     "metadata": {},
     "output_type": "execute_result"
    }
   ],
   "source": [
    "df['Preço'].std()"
   ]
  },
  {
   "attachments": {},
   "cell_type": "markdown",
   "metadata": {},
   "source": [
    "## Boxplot"
   ]
  },
  {
   "cell_type": "code",
   "execution_count": 29,
   "metadata": {},
   "outputs": [
    {
     "data": {
      "text/plain": [
       "<Axes: >"
      ]
     },
     "execution_count": 29,
     "metadata": {},
     "output_type": "execute_result"
    },
    {
     "data": {
      "image/png": "[encoded data removed]",
      "text/plain": [
       "<Figure size 640x480 with 1 Axes>"
      ]
     },
     "metadata": {},
     "output_type": "display_data"
    }
   ],
   "source": [
    "df.boxplot(column=['Preço'])"
   ]
  },
  {
   "cell_type": "code",
   "execution_count": 26,
   "metadata": {},
   "outputs": [
    {
     "data": {
      "text/plain": [
       "<Axes: title={'center': 'Preço'}, xlabel='GPU'>"
      ]
     },
     "execution_count": 26,
     "metadata": {},
     "output_type": "execute_result"
    },
    {
     "data": {
      "image/png": "[encoded data removed]",
      "text/plain": [
       "<Figure size 800x800 with 1 Axes>"
      ]
     },
     "metadata": {},
     "output_type": "display_data"
    }
   ],
   "source": [
    "df.boxplot(by='GPU', column=['Preço'], fontsize='large', figsize=(8,8))"
   ]
  },
  {
   "attachments": {},
   "cell_type": "markdown",
   "metadata": {},
   "source": [
    "## Tabelas de Frequência e Histogramas"
   ]
  },
  {
   "cell_type": "code",
   "execution_count": 22,
   "metadata": {},
   "outputs": [],
   "source": [
    "import matplotlib.pyplot as plt"
   ]
  },
  {
   "cell_type": "code",
   "execution_count": 4,
   "metadata": {},
   "outputs": [
    {
     "data": {
      "text/plain": [
       "40"
      ]
     },
     "execution_count": 4,
     "metadata": {},
     "output_type": "execute_result"
    }
   ],
   "source": [
    "count_memory_type = df['Tipo da Memória'].value_counts()\n",
    "count_memory_type.count()"
   ]
  },
  {
   "attachments": {},
   "cell_type": "markdown",
   "metadata": {},
   "source": [
    "### Tipos de Memória"
   ]
  },
  {
   "attachments": {},
   "cell_type": "markdown",
   "metadata": {},
   "source": [
    "#### Bruto"
   ]
  },
  {
   "cell_type": "code",
   "execution_count": 57,
   "metadata": {},
   "outputs": [
    {
     "data": {
      "image/png": "[encoded data removed]",
      "text/plain": [
       "<Figure size 800x800 with 1 Axes>"
      ]
     },
     "metadata": {},
     "output_type": "display_data"
    }
   ],
   "source": [
    "count_memory_type = df['Tipo da Memória'].value_counts()\n",
    "top_memory_type = count_memory_type.head(40)\n",
    "\n",
    "fig, ax = plt.subplots(figsize=(8, 8))\n",
    "bars = plt.barh(top_memory_type.index, top_memory_type.values, color='#d95f02')\n",
    "ax.spines[['right', 'top', 'bottom']].set_visible(False)\n",
    "ax.xaxis.set_visible(False)\n",
    "ax.bar_label(bars)\n",
    "plt.show()"
   ]
  },
  {
   "cell_type": "code",
   "execution_count": 75,
   "metadata": {},
   "outputs": [],
   "source": [
    "import math"
   ]
  },
  {
   "cell_type": "code",
   "execution_count": 4,
   "metadata": {},
   "outputs": [],
   "source": [
    "df_memory_type = df"
   ]
  },
  {
   "attachments": {},
   "cell_type": "markdown",
   "metadata": {},
   "source": [
    "#### Removendo Espaços e Valores NaN"
   ]
  },
  {
   "cell_type": "code",
   "execution_count": 5,
   "metadata": {},
   "outputs": [],
   "source": [
    "for linha in range(len(df_memory_type)):\n",
    "    df_memory_type['Tipo da Memória'].at[linha] = str(df_memory_type['Tipo da Memória'].iloc[linha]).strip()"
   ]
  },
  {
   "cell_type": "code",
   "execution_count": 6,
   "metadata": {},
   "outputs": [
    {
     "name": "stdout",
     "output_type": "stream",
     "text": [
      "125\n"
     ]
    }
   ],
   "source": [
    "count = 0\n",
    "indices = []\n",
    "for linha in range(len(df_memory_type)):\n",
    "    if df_memory_type['Tipo da Memória'].iloc[linha] == 'nan':\n",
    "        count += 1\n",
    "        indices.append(linha)\n",
    "print(count)"
   ]
  },
  {
   "cell_type": "code",
   "execution_count": 7,
   "metadata": {},
   "outputs": [],
   "source": [
    "df_memory_type = df_memory_type.drop(indices)"
   ]
  },
  {
   "cell_type": "code",
   "execution_count": 10,
   "metadata": {},
   "outputs": [
    {
     "data": {
      "text/plain": [
       "23"
      ]
     },
     "execution_count": 10,
     "metadata": {},
     "output_type": "execute_result"
    }
   ],
   "source": [
    "count_memory_type = df_memory_type['Tipo da Memória'].value_counts()\n",
    "count_memory_type.count()"
   ]
  },
  {
   "cell_type": "code",
   "execution_count": null,
   "metadata": {},
   "outputs": [],
   "source": [
    "df_memory_type = df_memory_type.reset_index()"
   ]
  },
  {
   "cell_type": "code",
   "execution_count": 23,
   "metadata": {},
   "outputs": [
    {
     "data": {
      "image/png": "[encoded data removed]",
      "text/plain": [
       "<Figure size 800x800 with 1 Axes>"
      ]
     },
     "metadata": {},
     "output_type": "display_data"
    }
   ],
   "source": [
    "top_memory_type = count_memory_type.head(23)\n",
    "\n",
    "fig, ax = plt.subplots(figsize=(8, 8))\n",
    "bars = plt.barh(top_memory_type.index, top_memory_type.values, color='#d95f02')\n",
    "ax.spines[['right', 'top', 'bottom']].set_visible(False)\n",
    "ax.xaxis.set_visible(False)\n",
    "ax.bar_label(bars)\n",
    "plt.show()"
   ]
  },
  {
   "attachments": {},
   "cell_type": "markdown",
   "metadata": {},
   "source": [
    "#### Limpeza final"
   ]
  },
  {
   "cell_type": "code",
   "execution_count": 24,
   "metadata": {},
   "outputs": [],
   "source": [
    "df_memory_type_upper = df_memory_type\n",
    "for linha in range(len(df_memory_type_upper)):\n",
    "    df_memory_type_upper['Tipo da Memória'].at[linha] = str(df_memory_type_upper['Tipo da Memória'].iloc[linha]).upper()"
   ]
  },
  {
   "cell_type": "code",
   "execution_count": 25,
   "metadata": {},
   "outputs": [
    {
     "data": {
      "text/plain": [
       "11"
      ]
     },
     "execution_count": 25,
     "metadata": {},
     "output_type": "execute_result"
    }
   ],
   "source": [
    "count_memory_type = df_memory_type_upper['Tipo da Memória'].value_counts()\n",
    "count_memory_type.count()"
   ]
  },
  {
   "cell_type": "code",
   "execution_count": 26,
   "metadata": {},
   "outputs": [
    {
     "data": {
      "image/png": "[encoded data removed]",
      "text/plain": [
       "<Figure size 800x800 with 1 Axes>"
      ]
     },
     "metadata": {},
     "output_type": "display_data"
    }
   ],
   "source": [
    "top_memory_type = count_memory_type.head(11)\n",
    "\n",
    "fig, ax = plt.subplots(figsize=(8, 8))\n",
    "bars = plt.barh(top_memory_type.index, top_memory_type.values, color='#d95f02')\n",
    "ax.spines[['right', 'top', 'bottom']].set_visible(False)\n",
    "ax.xaxis.set_visible(False)\n",
    "ax.bar_label(bars)\n",
    "plt.show()"
   ]
  },
  {
   "attachments": {},
   "cell_type": "markdown",
   "metadata": {},
   "source": [
    "### Unidades de Processamento"
   ]
  },
  {
   "cell_type": "code",
   "execution_count": 70,
   "metadata": {},
   "outputs": [],
   "source": [
    "cores = df_cores['Unidades de Processamento']\n"
   ]
  },
  {
   "cell_type": "code",
   "execution_count": 71,
   "metadata": {},
   "outputs": [
    {
     "data": {
      "text/plain": [
       "12"
      ]
     },
     "execution_count": 71,
     "metadata": {},
     "output_type": "execute_result"
    }
   ],
   "source": [
    "k = math.ceil(1 + 3.3 * math.log10(cores.size))\n",
    "k"
   ]
  },
  {
   "cell_type": "code",
   "execution_count": 72,
   "metadata": {},
   "outputs": [
    {
     "data": {
      "image/png": "[encoded data removed]",
      "text/plain": [
       "<Figure size 640x480 with 1 Axes>"
      ]
     },
     "metadata": {},
     "output_type": "display_data"
    }
   ],
   "source": [
    "plt.hist(cores, bins=k)\n",
    "plt.show()"
   ]
  },
  {
   "cell_type": "code",
   "execution_count": 73,
   "metadata": {},
   "outputs": [
    {
     "data": {
      "text/plain": [
       "34"
      ]
     },
     "execution_count": 73,
     "metadata": {},
     "output_type": "execute_result"
    }
   ],
   "source": [
    "k = int(math.sqrt(cores.size))\n",
    "k"
   ]
  },
  {
   "cell_type": "code",
   "execution_count": 74,
   "metadata": {},
   "outputs": [
    {
     "data": {
      "image/png": "[encoded data removed]",
      "text/plain": [
       "<Figure size 640x480 with 1 Axes>"
      ]
     },
     "metadata": {},
     "output_type": "display_data"
    }
   ],
   "source": [
    "plt.hist(cores, bins=k)\n",
    "plt.show()"
   ]
  }
 ],
 "metadata": {
  "kernelspec": {
   "display_name": "Python 3",
   "language": "python",
   "name": "python3"
  },
  "language_info": {
   "codemirror_mode": {
    "name": "ipython",
    "version": 3
   },
   "file_extension": ".py",
   "mimetype": "text/x-python",
   "name": "python",
   "nbconvert_exporter": "python",
   "pygments_lexer": "ipython3",
   "version": "3.10.5"
  },
  "orig_nbformat": 4
 },
 "nbformat": 4,
 "nbformat_minor": 2
}
