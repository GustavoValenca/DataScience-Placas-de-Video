{
 "cells": [
  {
   "cell_type": "code",
   "execution_count": 2,
   "metadata": {},
   "outputs": [],
   "source": [
    "import pandas as pd\n",
    "import numpy as np"
   ]
  },
  {
   "cell_type": "code",
   "execution_count": 3,
   "metadata": {},
   "outputs": [],
   "source": [
    "df = pd.read_csv('dataset.csv')"
   ]
  },
  {
   "cell_type": "code",
   "execution_count": 107,
   "metadata": {},
   "outputs": [
    {
     "data": {
      "text/html": [
       "<div>\n",
       "<style scoped>\n",
       "    .dataframe tbody tr th:only-of-type {\n",
       "        vertical-align: middle;\n",
       "    }\n",
       "\n",
       "    .dataframe tbody tr th {\n",
       "        vertical-align: top;\n",
       "    }\n",
       "\n",
       "    .dataframe thead th {\n",
       "        text-align: right;\n",
       "    }\n",
       "</style>\n",
       "<table border=\"1\" class=\"dataframe\">\n",
       "  <thead>\n",
       "    <tr style=\"text-align: right;\">\n",
       "      <th></th>\n",
       "      <th>Unnamed: 0</th>\n",
       "      <th>Preço</th>\n",
       "      <th>Marca</th>\n",
       "      <th>Modelo</th>\n",
       "      <th>GPU</th>\n",
       "      <th>Unidades de Processamento</th>\n",
       "      <th>Tamanho da Memória (GB)</th>\n",
       "      <th>Velocidade da Memória (Gbps)</th>\n",
       "      <th>Tipo da Memória</th>\n",
       "      <th>Interface da Memória (Bits)</th>\n",
       "      <th>Fonte Recomendada (W)</th>\n",
       "      <th>Garantia (Meses)</th>\n",
       "      <th>Peso</th>\n",
       "    </tr>\n",
       "  </thead>\n",
       "  <tbody>\n",
       "    <tr>\n",
       "      <th>0</th>\n",
       "      <td>0</td>\n",
       "      <td>2699.99</td>\n",
       "      <td>MSI</td>\n",
       "      <td>Radeon RX 6750 XT MECH 2X 12G OC</td>\n",
       "      <td>AMD</td>\n",
       "      <td>2560.0</td>\n",
       "      <td>12.0</td>\n",
       "      <td>18.0</td>\n",
       "      <td>GDDR6</td>\n",
       "      <td>192.0</td>\n",
       "      <td>650.0</td>\n",
       "      <td>36.0</td>\n",
       "      <td>1474.0</td>\n",
       "    </tr>\n",
       "    <tr>\n",
       "      <th>1</th>\n",
       "      <td>1</td>\n",
       "      <td>2299.99</td>\n",
       "      <td>ASUS</td>\n",
       "      <td>Dual RTX 3060 O12G V2</td>\n",
       "      <td>NVIDIA</td>\n",
       "      <td>3584.0</td>\n",
       "      <td>12.0</td>\n",
       "      <td>15.0</td>\n",
       "      <td>GDDR6</td>\n",
       "      <td>192.0</td>\n",
       "      <td>650.0</td>\n",
       "      <td>12.0</td>\n",
       "      <td>880.0</td>\n",
       "    </tr>\n",
       "    <tr>\n",
       "      <th>2</th>\n",
       "      <td>2</td>\n",
       "      <td>1559.99</td>\n",
       "      <td>ASRock</td>\n",
       "      <td>AMD Radeon RX 6600 CLD 8G</td>\n",
       "      <td>AMD</td>\n",
       "      <td>1792.0</td>\n",
       "      <td>8.0</td>\n",
       "      <td>14.0</td>\n",
       "      <td>GDDR6</td>\n",
       "      <td>128.0</td>\n",
       "      <td>500.0</td>\n",
       "      <td>12.0</td>\n",
       "      <td>627.0</td>\n",
       "    </tr>\n",
       "    <tr>\n",
       "      <th>3</th>\n",
       "      <td>3</td>\n",
       "      <td>1739.99</td>\n",
       "      <td>PNY</td>\n",
       "      <td>VCG30508DFMPB</td>\n",
       "      <td>NVIDIA</td>\n",
       "      <td>2560.0</td>\n",
       "      <td>8.0</td>\n",
       "      <td>NaN</td>\n",
       "      <td>GDDR6</td>\n",
       "      <td>128.0</td>\n",
       "      <td>NaN</td>\n",
       "      <td>36.0</td>\n",
       "      <td>1052.0</td>\n",
       "    </tr>\n",
       "    <tr>\n",
       "      <th>4</th>\n",
       "      <td>4</td>\n",
       "      <td>2499.99</td>\n",
       "      <td>PNY</td>\n",
       "      <td>VCG306012DFBPB1</td>\n",
       "      <td>NVIDIA</td>\n",
       "      <td>3584.0</td>\n",
       "      <td>12.0</td>\n",
       "      <td>15.0</td>\n",
       "      <td>GDDR6</td>\n",
       "      <td>192.0</td>\n",
       "      <td>NaN</td>\n",
       "      <td>36.0</td>\n",
       "      <td>990.0</td>\n",
       "    </tr>\n",
       "    <tr>\n",
       "      <th>...</th>\n",
       "      <td>...</td>\n",
       "      <td>...</td>\n",
       "      <td>...</td>\n",
       "      <td>...</td>\n",
       "      <td>...</td>\n",
       "      <td>...</td>\n",
       "      <td>...</td>\n",
       "      <td>...</td>\n",
       "      <td>...</td>\n",
       "      <td>...</td>\n",
       "      <td>...</td>\n",
       "      <td>...</td>\n",
       "      <td>...</td>\n",
       "    </tr>\n",
       "    <tr>\n",
       "      <th>1245</th>\n",
       "      <td>1245</td>\n",
       "      <td>NaN</td>\n",
       "      <td>Pny</td>\n",
       "      <td>NVIDIA QUADRO T600</td>\n",
       "      <td>NVIDIA</td>\n",
       "      <td>640.0</td>\n",
       "      <td>4.0</td>\n",
       "      <td>NaN</td>\n",
       "      <td>GDDR6</td>\n",
       "      <td>128.0</td>\n",
       "      <td>NaN</td>\n",
       "      <td>12.0</td>\n",
       "      <td>450.0</td>\n",
       "    </tr>\n",
       "    <tr>\n",
       "      <th>1246</th>\n",
       "      <td>1246</td>\n",
       "      <td>NaN</td>\n",
       "      <td>MSI Modelo: 912-V389-205 Motor gráfico: NVIDIA...</td>\n",
       "      <td>912-V389-205 Motor gráfico: NVIDIA® GeForce RT...</td>\n",
       "      <td>NVIDIA</td>\n",
       "      <td>NaN</td>\n",
       "      <td>10.0</td>\n",
       "      <td>19.0</td>\n",
       "      <td>GDDR6X</td>\n",
       "      <td>NaN</td>\n",
       "      <td>912.0</td>\n",
       "      <td>12.0</td>\n",
       "      <td>3000.0</td>\n",
       "    </tr>\n",
       "    <tr>\n",
       "      <th>1247</th>\n",
       "      <td>1247</td>\n",
       "      <td>NaN</td>\n",
       "      <td>Galax</td>\n",
       "      <td>Geforce GTX 1660 Super 6GB</td>\n",
       "      <td>NVIDIA</td>\n",
       "      <td>1408.0</td>\n",
       "      <td>6.0</td>\n",
       "      <td>14.0</td>\n",
       "      <td>GDDR6</td>\n",
       "      <td>192.0</td>\n",
       "      <td>125.0</td>\n",
       "      <td>3.0</td>\n",
       "      <td>1070.0</td>\n",
       "    </tr>\n",
       "    <tr>\n",
       "      <th>1248</th>\n",
       "      <td>1248</td>\n",
       "      <td>NaN</td>\n",
       "      <td>Pcwinmax</td>\n",
       "      <td>Geforce Gt 740</td>\n",
       "      <td>NVIDIA</td>\n",
       "      <td>192.0</td>\n",
       "      <td>4.0</td>\n",
       "      <td>NaN</td>\n",
       "      <td>NaN</td>\n",
       "      <td>128.0</td>\n",
       "      <td>NaN</td>\n",
       "      <td>6.0</td>\n",
       "      <td>4000.0</td>\n",
       "    </tr>\n",
       "    <tr>\n",
       "      <th>1249</th>\n",
       "      <td>1249</td>\n",
       "      <td>NaN</td>\n",
       "      <td>Lian Li</td>\n",
       "      <td>PW-PCl-420</td>\n",
       "      <td>NaN</td>\n",
       "      <td>NaN</td>\n",
       "      <td>NaN</td>\n",
       "      <td>NaN</td>\n",
       "      <td>NaN</td>\n",
       "      <td>NaN</td>\n",
       "      <td>NaN</td>\n",
       "      <td>3.0</td>\n",
       "      <td>200.0</td>\n",
       "    </tr>\n",
       "  </tbody>\n",
       "</table>\n",
       "<p>1250 rows × 13 columns</p>\n",
       "</div>"
      ],
      "text/plain": [
       "      Unnamed: 0    Preço                                              Marca   \n",
       "0              0  2699.99                                                MSI  \\\n",
       "1              1  2299.99                                               ASUS   \n",
       "2              2  1559.99                                             ASRock   \n",
       "3              3  1739.99                                                PNY   \n",
       "4              4  2499.99                                                PNY   \n",
       "...          ...      ...                                                ...   \n",
       "1245        1245      NaN                                                Pny   \n",
       "1246        1246      NaN  MSI Modelo: 912-V389-205 Motor gráfico: NVIDIA...   \n",
       "1247        1247      NaN                                              Galax   \n",
       "1248        1248      NaN                                           Pcwinmax   \n",
       "1249        1249      NaN                                            Lian Li   \n",
       "\n",
       "                                                 Modelo     GPU   \n",
       "0                      Radeon RX 6750 XT MECH 2X 12G OC     AMD  \\\n",
       "1                                 Dual RTX 3060 O12G V2  NVIDIA   \n",
       "2                             AMD Radeon RX 6600 CLD 8G     AMD   \n",
       "3                                         VCG30508DFMPB  NVIDIA   \n",
       "4                                       VCG306012DFBPB1  NVIDIA   \n",
       "...                                                 ...     ...   \n",
       "1245                                 NVIDIA QUADRO T600  NVIDIA   \n",
       "1246  912-V389-205 Motor gráfico: NVIDIA® GeForce RT...  NVIDIA   \n",
       "1247                         Geforce GTX 1660 Super 6GB  NVIDIA   \n",
       "1248                                     Geforce Gt 740  NVIDIA   \n",
       "1249                                         PW-PCl-420     NaN   \n",
       "\n",
       "      Unidades de Processamento  Tamanho da Memória (GB)   \n",
       "0                        2560.0                     12.0  \\\n",
       "1                        3584.0                     12.0   \n",
       "2                        1792.0                      8.0   \n",
       "3                        2560.0                      8.0   \n",
       "4                        3584.0                     12.0   \n",
       "...                         ...                      ...   \n",
       "1245                      640.0                      4.0   \n",
       "1246                        NaN                     10.0   \n",
       "1247                     1408.0                      6.0   \n",
       "1248                      192.0                      4.0   \n",
       "1249                        NaN                      NaN   \n",
       "\n",
       "      Velocidade da Memória (Gbps) Tipo da Memória   \n",
       "0                             18.0           GDDR6  \\\n",
       "1                             15.0           GDDR6   \n",
       "2                             14.0           GDDR6   \n",
       "3                              NaN           GDDR6   \n",
       "4                             15.0           GDDR6   \n",
       "...                            ...             ...   \n",
       "1245                           NaN           GDDR6   \n",
       "1246                          19.0         GDDR6X    \n",
       "1247                          14.0          GDDR6    \n",
       "1248                           NaN             NaN   \n",
       "1249                           NaN             NaN   \n",
       "\n",
       "      Interface da Memória (Bits)  Fonte Recomendada (W)  Garantia (Meses)   \n",
       "0                           192.0                  650.0              36.0  \\\n",
       "1                           192.0                  650.0              12.0   \n",
       "2                           128.0                  500.0              12.0   \n",
       "3                           128.0                    NaN              36.0   \n",
       "4                           192.0                    NaN              36.0   \n",
       "...                           ...                    ...               ...   \n",
       "1245                        128.0                    NaN              12.0   \n",
       "1246                          NaN                  912.0              12.0   \n",
       "1247                        192.0                  125.0               3.0   \n",
       "1248                        128.0                    NaN               6.0   \n",
       "1249                          NaN                    NaN               3.0   \n",
       "\n",
       "        Peso  \n",
       "0     1474.0  \n",
       "1      880.0  \n",
       "2      627.0  \n",
       "3     1052.0  \n",
       "4      990.0  \n",
       "...      ...  \n",
       "1245   450.0  \n",
       "1246  3000.0  \n",
       "1247  1070.0  \n",
       "1248  4000.0  \n",
       "1249   200.0  \n",
       "\n",
       "[1250 rows x 13 columns]"
      ]
     },
     "execution_count": 107,
     "metadata": {},
     "output_type": "execute_result"
    }
   ],
   "source": [
    "df"
   ]
  },
  {
   "attachments": {},
   "cell_type": "markdown",
   "metadata": {},
   "source": [
    "## Medidas de Tendência Central"
   ]
  },
  {
   "attachments": {},
   "cell_type": "markdown",
   "metadata": {},
   "source": [
    "### Média"
   ]
  },
  {
   "attachments": {},
   "cell_type": "markdown",
   "metadata": {},
   "source": [
    "#### Média de Preço"
   ]
  },
  {
   "cell_type": "code",
   "execution_count": 87,
   "metadata": {},
   "outputs": [
    {
     "data": {
      "text/plain": [
       "3834.822132352941"
      ]
     },
     "execution_count": 87,
     "metadata": {},
     "output_type": "execute_result"
    }
   ],
   "source": [
    "df['Preço'].mean()"
   ]
  },
  {
   "attachments": {},
   "cell_type": "markdown",
   "metadata": {},
   "source": [
    "#### Média de Peso"
   ]
  },
  {
   "cell_type": "code",
   "execution_count": 88,
   "metadata": {},
   "outputs": [
    {
     "data": {
      "text/plain": [
       "1430.2224080267558"
      ]
     },
     "execution_count": 88,
     "metadata": {},
     "output_type": "execute_result"
    }
   ],
   "source": [
    "df['Peso'].mean()"
   ]
  },
  {
   "attachments": {},
   "cell_type": "markdown",
   "metadata": {},
   "source": [
    "#### Média de Unidades de Processamento"
   ]
  },
  {
   "cell_type": "code",
   "execution_count": 150,
   "metadata": {},
   "outputs": [],
   "source": [
    "df_cores = df"
   ]
  },
  {
   "cell_type": "code",
   "execution_count": 138,
   "metadata": {},
   "outputs": [],
   "source": [
    "df_cores['Unidades de Processamento'] = pd.to_numeric(df_cores['Unidades de Processamento'], errors='coerce')"
   ]
  },
  {
   "cell_type": "code",
   "execution_count": 139,
   "metadata": {},
   "outputs": [
    {
     "data": {
      "text/plain": [
       "0       2560.0\n",
       "1       3584.0\n",
       "2       1792.0\n",
       "3       2560.0\n",
       "4       3584.0\n",
       "         ...  \n",
       "1245     640.0\n",
       "1246       NaN\n",
       "1247    1408.0\n",
       "1248     192.0\n",
       "1249       NaN\n",
       "Name: Unidades de Processamento, Length: 1250, dtype: float64"
      ]
     },
     "execution_count": 139,
     "metadata": {},
     "output_type": "execute_result"
    }
   ],
   "source": [
    "df_cores['Unidades de Processamento']"
   ]
  },
  {
   "cell_type": "code",
   "execution_count": 140,
   "metadata": {},
   "outputs": [
    {
     "name": "stdout",
     "output_type": "stream",
     "text": [
      "63\n"
     ]
    }
   ],
   "source": [
    "# Removendo valores errados\n",
    "count = 0\n",
    "indices = []\n",
    "for linha in range(len(df_cores)):\n",
    "    if df_cores['Unidades de Processamento'].iloc[linha] > 20000:\n",
    "        count += 1\n",
    "        indices.append(linha)\n",
    "print(count)"
   ]
  },
  {
   "cell_type": "code",
   "execution_count": 144,
   "metadata": {},
   "outputs": [],
   "source": [
    "df_cores = df_cores.drop(indices)"
   ]
  },
  {
   "cell_type": "code",
   "execution_count": 145,
   "metadata": {},
   "outputs": [
    {
     "data": {
      "text/html": [
       "<div>\n",
       "<style scoped>\n",
       "    .dataframe tbody tr th:only-of-type {\n",
       "        vertical-align: middle;\n",
       "    }\n",
       "\n",
       "    .dataframe tbody tr th {\n",
       "        vertical-align: top;\n",
       "    }\n",
       "\n",
       "    .dataframe thead th {\n",
       "        text-align: right;\n",
       "    }\n",
       "</style>\n",
       "<table border=\"1\" class=\"dataframe\">\n",
       "  <thead>\n",
       "    <tr style=\"text-align: right;\">\n",
       "      <th></th>\n",
       "      <th>Unnamed: 0</th>\n",
       "      <th>Preço</th>\n",
       "      <th>Marca</th>\n",
       "      <th>Modelo</th>\n",
       "      <th>GPU</th>\n",
       "      <th>Unidades de Processamento</th>\n",
       "      <th>Tamanho da Memória (GB)</th>\n",
       "      <th>Velocidade da Memória (Gbps)</th>\n",
       "      <th>Tipo da Memória</th>\n",
       "      <th>Interface da Memória (Bits)</th>\n",
       "      <th>Fonte Recomendada (W)</th>\n",
       "      <th>Garantia (Meses)</th>\n",
       "      <th>Peso</th>\n",
       "    </tr>\n",
       "  </thead>\n",
       "  <tbody>\n",
       "    <tr>\n",
       "      <th>0</th>\n",
       "      <td>0</td>\n",
       "      <td>2699.99</td>\n",
       "      <td>MSI</td>\n",
       "      <td>Radeon RX 6750 XT MECH 2X 12G OC</td>\n",
       "      <td>AMD</td>\n",
       "      <td>2560.0</td>\n",
       "      <td>12.0</td>\n",
       "      <td>18.0</td>\n",
       "      <td>GDDR6</td>\n",
       "      <td>192.0</td>\n",
       "      <td>650.0</td>\n",
       "      <td>36.0</td>\n",
       "      <td>1474.0</td>\n",
       "    </tr>\n",
       "    <tr>\n",
       "      <th>1</th>\n",
       "      <td>1</td>\n",
       "      <td>2299.99</td>\n",
       "      <td>ASUS</td>\n",
       "      <td>Dual RTX 3060 O12G V2</td>\n",
       "      <td>NVIDIA</td>\n",
       "      <td>3584.0</td>\n",
       "      <td>12.0</td>\n",
       "      <td>15.0</td>\n",
       "      <td>GDDR6</td>\n",
       "      <td>192.0</td>\n",
       "      <td>650.0</td>\n",
       "      <td>12.0</td>\n",
       "      <td>880.0</td>\n",
       "    </tr>\n",
       "    <tr>\n",
       "      <th>2</th>\n",
       "      <td>2</td>\n",
       "      <td>1559.99</td>\n",
       "      <td>ASRock</td>\n",
       "      <td>AMD Radeon RX 6600 CLD 8G</td>\n",
       "      <td>AMD</td>\n",
       "      <td>1792.0</td>\n",
       "      <td>8.0</td>\n",
       "      <td>14.0</td>\n",
       "      <td>GDDR6</td>\n",
       "      <td>128.0</td>\n",
       "      <td>500.0</td>\n",
       "      <td>12.0</td>\n",
       "      <td>627.0</td>\n",
       "    </tr>\n",
       "    <tr>\n",
       "      <th>3</th>\n",
       "      <td>3</td>\n",
       "      <td>1739.99</td>\n",
       "      <td>PNY</td>\n",
       "      <td>VCG30508DFMPB</td>\n",
       "      <td>NVIDIA</td>\n",
       "      <td>2560.0</td>\n",
       "      <td>8.0</td>\n",
       "      <td>NaN</td>\n",
       "      <td>GDDR6</td>\n",
       "      <td>128.0</td>\n",
       "      <td>NaN</td>\n",
       "      <td>36.0</td>\n",
       "      <td>1052.0</td>\n",
       "    </tr>\n",
       "    <tr>\n",
       "      <th>4</th>\n",
       "      <td>4</td>\n",
       "      <td>2499.99</td>\n",
       "      <td>PNY</td>\n",
       "      <td>VCG306012DFBPB1</td>\n",
       "      <td>NVIDIA</td>\n",
       "      <td>3584.0</td>\n",
       "      <td>12.0</td>\n",
       "      <td>15.0</td>\n",
       "      <td>GDDR6</td>\n",
       "      <td>192.0</td>\n",
       "      <td>NaN</td>\n",
       "      <td>36.0</td>\n",
       "      <td>990.0</td>\n",
       "    </tr>\n",
       "    <tr>\n",
       "      <th>...</th>\n",
       "      <td>...</td>\n",
       "      <td>...</td>\n",
       "      <td>...</td>\n",
       "      <td>...</td>\n",
       "      <td>...</td>\n",
       "      <td>...</td>\n",
       "      <td>...</td>\n",
       "      <td>...</td>\n",
       "      <td>...</td>\n",
       "      <td>...</td>\n",
       "      <td>...</td>\n",
       "      <td>...</td>\n",
       "      <td>...</td>\n",
       "    </tr>\n",
       "    <tr>\n",
       "      <th>1245</th>\n",
       "      <td>1245</td>\n",
       "      <td>NaN</td>\n",
       "      <td>Pny</td>\n",
       "      <td>NVIDIA QUADRO T600</td>\n",
       "      <td>NVIDIA</td>\n",
       "      <td>640.0</td>\n",
       "      <td>4.0</td>\n",
       "      <td>NaN</td>\n",
       "      <td>GDDR6</td>\n",
       "      <td>128.0</td>\n",
       "      <td>NaN</td>\n",
       "      <td>12.0</td>\n",
       "      <td>450.0</td>\n",
       "    </tr>\n",
       "    <tr>\n",
       "      <th>1246</th>\n",
       "      <td>1246</td>\n",
       "      <td>NaN</td>\n",
       "      <td>MSI Modelo: 912-V389-205 Motor gráfico: NVIDIA...</td>\n",
       "      <td>912-V389-205 Motor gráfico: NVIDIA® GeForce RT...</td>\n",
       "      <td>NVIDIA</td>\n",
       "      <td>NaN</td>\n",
       "      <td>10.0</td>\n",
       "      <td>19.0</td>\n",
       "      <td>GDDR6X</td>\n",
       "      <td>NaN</td>\n",
       "      <td>912.0</td>\n",
       "      <td>12.0</td>\n",
       "      <td>3000.0</td>\n",
       "    </tr>\n",
       "    <tr>\n",
       "      <th>1247</th>\n",
       "      <td>1247</td>\n",
       "      <td>NaN</td>\n",
       "      <td>Galax</td>\n",
       "      <td>Geforce GTX 1660 Super 6GB</td>\n",
       "      <td>NVIDIA</td>\n",
       "      <td>1408.0</td>\n",
       "      <td>6.0</td>\n",
       "      <td>14.0</td>\n",
       "      <td>GDDR6</td>\n",
       "      <td>192.0</td>\n",
       "      <td>125.0</td>\n",
       "      <td>3.0</td>\n",
       "      <td>1070.0</td>\n",
       "    </tr>\n",
       "    <tr>\n",
       "      <th>1248</th>\n",
       "      <td>1248</td>\n",
       "      <td>NaN</td>\n",
       "      <td>Pcwinmax</td>\n",
       "      <td>Geforce Gt 740</td>\n",
       "      <td>NVIDIA</td>\n",
       "      <td>192.0</td>\n",
       "      <td>4.0</td>\n",
       "      <td>NaN</td>\n",
       "      <td>NaN</td>\n",
       "      <td>128.0</td>\n",
       "      <td>NaN</td>\n",
       "      <td>6.0</td>\n",
       "      <td>4000.0</td>\n",
       "    </tr>\n",
       "    <tr>\n",
       "      <th>1249</th>\n",
       "      <td>1249</td>\n",
       "      <td>NaN</td>\n",
       "      <td>Lian Li</td>\n",
       "      <td>PW-PCl-420</td>\n",
       "      <td>NaN</td>\n",
       "      <td>NaN</td>\n",
       "      <td>NaN</td>\n",
       "      <td>NaN</td>\n",
       "      <td>NaN</td>\n",
       "      <td>NaN</td>\n",
       "      <td>NaN</td>\n",
       "      <td>3.0</td>\n",
       "      <td>200.0</td>\n",
       "    </tr>\n",
       "  </tbody>\n",
       "</table>\n",
       "<p>1187 rows × 13 columns</p>\n",
       "</div>"
      ],
      "text/plain": [
       "      Unnamed: 0    Preço                                              Marca   \n",
       "0              0  2699.99                                                MSI  \\\n",
       "1              1  2299.99                                               ASUS   \n",
       "2              2  1559.99                                             ASRock   \n",
       "3              3  1739.99                                                PNY   \n",
       "4              4  2499.99                                                PNY   \n",
       "...          ...      ...                                                ...   \n",
       "1245        1245      NaN                                                Pny   \n",
       "1246        1246      NaN  MSI Modelo: 912-V389-205 Motor gráfico: NVIDIA...   \n",
       "1247        1247      NaN                                              Galax   \n",
       "1248        1248      NaN                                           Pcwinmax   \n",
       "1249        1249      NaN                                            Lian Li   \n",
       "\n",
       "                                                 Modelo     GPU   \n",
       "0                      Radeon RX 6750 XT MECH 2X 12G OC     AMD  \\\n",
       "1                                 Dual RTX 3060 O12G V2  NVIDIA   \n",
       "2                             AMD Radeon RX 6600 CLD 8G     AMD   \n",
       "3                                         VCG30508DFMPB  NVIDIA   \n",
       "4                                       VCG306012DFBPB1  NVIDIA   \n",
       "...                                                 ...     ...   \n",
       "1245                                 NVIDIA QUADRO T600  NVIDIA   \n",
       "1246  912-V389-205 Motor gráfico: NVIDIA® GeForce RT...  NVIDIA   \n",
       "1247                         Geforce GTX 1660 Super 6GB  NVIDIA   \n",
       "1248                                     Geforce Gt 740  NVIDIA   \n",
       "1249                                         PW-PCl-420     NaN   \n",
       "\n",
       "      Unidades de Processamento  Tamanho da Memória (GB)   \n",
       "0                        2560.0                     12.0  \\\n",
       "1                        3584.0                     12.0   \n",
       "2                        1792.0                      8.0   \n",
       "3                        2560.0                      8.0   \n",
       "4                        3584.0                     12.0   \n",
       "...                         ...                      ...   \n",
       "1245                      640.0                      4.0   \n",
       "1246                        NaN                     10.0   \n",
       "1247                     1408.0                      6.0   \n",
       "1248                      192.0                      4.0   \n",
       "1249                        NaN                      NaN   \n",
       "\n",
       "      Velocidade da Memória (Gbps) Tipo da Memória   \n",
       "0                             18.0           GDDR6  \\\n",
       "1                             15.0           GDDR6   \n",
       "2                             14.0           GDDR6   \n",
       "3                              NaN           GDDR6   \n",
       "4                             15.0           GDDR6   \n",
       "...                            ...             ...   \n",
       "1245                           NaN           GDDR6   \n",
       "1246                          19.0         GDDR6X    \n",
       "1247                          14.0          GDDR6    \n",
       "1248                           NaN             NaN   \n",
       "1249                           NaN             NaN   \n",
       "\n",
       "      Interface da Memória (Bits)  Fonte Recomendada (W)  Garantia (Meses)   \n",
       "0                           192.0                  650.0              36.0  \\\n",
       "1                           192.0                  650.0              12.0   \n",
       "2                           128.0                  500.0              12.0   \n",
       "3                           128.0                    NaN              36.0   \n",
       "4                           192.0                    NaN              36.0   \n",
       "...                           ...                    ...               ...   \n",
       "1245                        128.0                    NaN              12.0   \n",
       "1246                          NaN                  912.0              12.0   \n",
       "1247                        192.0                  125.0               3.0   \n",
       "1248                        128.0                    NaN               6.0   \n",
       "1249                          NaN                    NaN               3.0   \n",
       "\n",
       "        Peso  \n",
       "0     1474.0  \n",
       "1      880.0  \n",
       "2      627.0  \n",
       "3     1052.0  \n",
       "4      990.0  \n",
       "...      ...  \n",
       "1245   450.0  \n",
       "1246  3000.0  \n",
       "1247  1070.0  \n",
       "1248  4000.0  \n",
       "1249   200.0  \n",
       "\n",
       "[1187 rows x 13 columns]"
      ]
     },
     "execution_count": 145,
     "metadata": {},
     "output_type": "execute_result"
    }
   ],
   "source": [
    "df_cores"
   ]
  },
  {
   "cell_type": "code",
   "execution_count": 146,
   "metadata": {},
   "outputs": [
    {
     "data": {
      "text/plain": [
       "3877.1986206896554"
      ]
     },
     "execution_count": 146,
     "metadata": {},
     "output_type": "execute_result"
    }
   ],
   "source": [
    "df_cores['Unidades de Processamento'].mean()"
   ]
  },
  {
   "attachments": {},
   "cell_type": "markdown",
   "metadata": {},
   "source": [
    "### Mediana"
   ]
  },
  {
   "attachments": {},
   "cell_type": "markdown",
   "metadata": {},
   "source": [
    "#### Preço"
   ]
  },
  {
   "cell_type": "code",
   "execution_count": 147,
   "metadata": {},
   "outputs": [
    {
     "data": {
      "text/plain": [
       "2199.995"
      ]
     },
     "execution_count": 147,
     "metadata": {},
     "output_type": "execute_result"
    }
   ],
   "source": [
    "df['Preço'].median()"
   ]
  },
  {
   "attachments": {},
   "cell_type": "markdown",
   "metadata": {},
   "source": [
    "#### Peso"
   ]
  },
  {
   "cell_type": "code",
   "execution_count": 148,
   "metadata": {},
   "outputs": [
    {
     "data": {
      "text/plain": [
       "1063.0"
      ]
     },
     "execution_count": 148,
     "metadata": {},
     "output_type": "execute_result"
    }
   ],
   "source": [
    "df['Peso'].median()"
   ]
  },
  {
   "attachments": {},
   "cell_type": "markdown",
   "metadata": {},
   "source": [
    "#### Unidades de Processamento"
   ]
  },
  {
   "cell_type": "code",
   "execution_count": 149,
   "metadata": {},
   "outputs": [
    {
     "data": {
      "text/plain": [
       "2560.0"
      ]
     },
     "execution_count": 149,
     "metadata": {},
     "output_type": "execute_result"
    }
   ],
   "source": [
    "df_cores['Unidades de Processamento'].median()"
   ]
  },
  {
   "attachments": {},
   "cell_type": "markdown",
   "metadata": {},
   "source": [
    "### Moda"
   ]
  },
  {
   "attachments": {},
   "cell_type": "markdown",
   "metadata": {},
   "source": [
    "#### Garantia"
   ]
  },
  {
   "cell_type": "code",
   "execution_count": 158,
   "metadata": {},
   "outputs": [
    {
     "name": "stdout",
     "output_type": "stream",
     "text": [
      "Garantia (Meses)\n",
      "12.0    673\n",
      "3.0     392\n",
      "36.0     94\n",
      "24.0     38\n",
      "6.0      15\n",
      "0.0       7\n",
      "48.0      3\n",
      "90.0      2\n",
      "9.0       1\n",
      "Name: count, dtype: int64\n"
     ]
    }
   ],
   "source": [
    "df['Garantia (Meses)'].value_counts()"
   ]
  },
  {
   "cell_type": "code",
   "execution_count": 164,
   "metadata": {},
   "outputs": [
    {
     "name": "stdout",
     "output_type": "stream",
     "text": [
      "Moda Garantia:\n"
     ]
    },
    {
     "data": {
      "text/plain": [
       "0    12.0\n",
       "Name: Garantia (Meses), dtype: float64"
      ]
     },
     "execution_count": 164,
     "metadata": {},
     "output_type": "execute_result"
    }
   ],
   "source": [
    "print(\"Moda Garantia:\")\n",
    "df['Garantia (Meses)'].mode()"
   ]
  },
  {
   "attachments": {},
   "cell_type": "markdown",
   "metadata": {},
   "source": [
    "#### GPU"
   ]
  },
  {
   "cell_type": "code",
   "execution_count": 165,
   "metadata": {},
   "outputs": [
    {
     "data": {
      "text/plain": [
       "GPU\n",
       "NVIDIA    880\n",
       "AMD       225\n",
       "Intel       4\n",
       "Name: count, dtype: int64"
      ]
     },
     "execution_count": 165,
     "metadata": {},
     "output_type": "execute_result"
    }
   ],
   "source": [
    "df['GPU'].value_counts()"
   ]
  },
  {
   "cell_type": "code",
   "execution_count": 167,
   "metadata": {},
   "outputs": [
    {
     "name": "stdout",
     "output_type": "stream",
     "text": [
      "Moda GPU: \n"
     ]
    },
    {
     "data": {
      "text/plain": [
       "0    NVIDIA\n",
       "Name: GPU, dtype: object"
      ]
     },
     "execution_count": 167,
     "metadata": {},
     "output_type": "execute_result"
    }
   ],
   "source": [
    "print(\"Moda GPU: \")\n",
    "df['GPU'].mode()"
   ]
  },
  {
   "attachments": {},
   "cell_type": "markdown",
   "metadata": {},
   "source": [
    "#### Tipo de Memória - Corrigir Depois"
   ]
  },
  {
   "cell_type": "code",
   "execution_count": null,
   "metadata": {},
   "outputs": [],
   "source": [
    "df['Tipo da Memória'].value_counts()"
   ]
  },
  {
   "attachments": {},
   "cell_type": "markdown",
   "metadata": {},
   "source": [
    "## Medidas de Variabilidade"
   ]
  },
  {
   "attachments": {},
   "cell_type": "markdown",
   "metadata": {},
   "source": [
    "### Desvio"
   ]
  },
  {
   "cell_type": "code",
   "execution_count": 169,
   "metadata": {},
   "outputs": [
    {
     "data": {
      "text/plain": [
       "3834.822132352941"
      ]
     },
     "execution_count": 169,
     "metadata": {},
     "output_type": "execute_result"
    }
   ],
   "source": [
    "media_precos = df['Preço'].mean()\n",
    "media_precos"
   ]
  },
  {
   "cell_type": "code",
   "execution_count": 171,
   "metadata": {},
   "outputs": [
    {
     "data": {
      "text/plain": [
       "0      -1134.832132\n",
       "1      -1534.832132\n",
       "2      -2274.832132\n",
       "3      -2094.832132\n",
       "4      -1334.832132\n",
       "           ...     \n",
       "1245            NaN\n",
       "1246            NaN\n",
       "1247            NaN\n",
       "1248            NaN\n",
       "1249            NaN\n",
       "Name: Preço, Length: 1250, dtype: float64"
      ]
     },
     "execution_count": 171,
     "metadata": {},
     "output_type": "execute_result"
    }
   ],
   "source": [
    "d = df['Preço'].apply(lambda x: x - media_precos)\n",
    "d"
   ]
  },
  {
   "attachments": {},
   "cell_type": "markdown",
   "metadata": {},
   "source": [
    "### Variância"
   ]
  },
  {
   "cell_type": "code",
   "execution_count": 172,
   "metadata": {},
   "outputs": [
    {
     "data": {
      "text/plain": [
       "18663135.85231294"
      ]
     },
     "execution_count": 172,
     "metadata": {},
     "output_type": "execute_result"
    }
   ],
   "source": [
    "df['Preço'].var()"
   ]
  },
  {
   "attachments": {},
   "cell_type": "markdown",
   "metadata": {},
   "source": [
    "### Desvio Padrão"
   ]
  },
  {
   "cell_type": "code",
   "execution_count": 173,
   "metadata": {},
   "outputs": [
    {
     "data": {
      "text/plain": [
       "4320.085167252255"
      ]
     },
     "execution_count": 173,
     "metadata": {},
     "output_type": "execute_result"
    }
   ],
   "source": [
    "df['Preço'].std()"
   ]
  },
  {
   "attachments": {},
   "cell_type": "markdown",
   "metadata": {},
   "source": [
    "## Boxplot"
   ]
  },
  {
   "cell_type": "code",
   "execution_count": 174,
   "metadata": {},
   "outputs": [
    {
     "data": {
      "text/plain": [
       "<Axes: >"
      ]
     },
     "execution_count": 174,
     "metadata": {},
     "output_type": "execute_result"
    },
    {
     "data": {
      "image/png": "[encoded data removed]",
      "text/plain": [
       "<Figure size 640x480 with 1 Axes>"
      ]
     },
     "metadata": {},
     "output_type": "display_data"
    }
   ],
   "source": [
    "df.boxplot(column=['Preço'])"
   ]
  },
  {
   "cell_type": "code",
   "execution_count": 4,
   "metadata": {},
   "outputs": [
    {
     "data": {
      "text/plain": [
       "<Axes: title={'center': 'Preço'}, xlabel='GPU'>"
      ]
     },
     "execution_count": 4,
     "metadata": {},
     "output_type": "execute_result"
    },
    {
     "data": {
      "image/png": "[encoded data removed]",
      "text/plain": [
       "<Figure size 800x800 with 1 Axes>"
      ]
     },
     "metadata": {},
     "output_type": "display_data"
    }
   ],
   "source": [
    "df.boxplot(by='GPU', column=['Preço'], fontsize='large', figsize=(8,8))"
   ]
  },
  {
   "cell_type": "code",
   "execution_count": null,
   "metadata": {},
   "outputs": [],
   "source": []
  }
 ],
 "metadata": {
  "kernelspec": {
   "display_name": "Python 3",
   "language": "python",
   "name": "python3"
  },
  "language_info": {
   "codemirror_mode": {
    "name": "ipython",
    "version": 3
   },
   "file_extension": ".py",
   "mimetype": "text/x-python",
   "name": "python",
   "nbconvert_exporter": "python",
   "pygments_lexer": "ipython3",
   "version": "3.10.5"
  },
  "orig_nbformat": 4
 },
 "nbformat": 4,
 "nbformat_minor": 2
}
